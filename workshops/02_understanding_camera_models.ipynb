{
 "cells": [
  {
   "cell_type": "markdown",
   "metadata": {
    "vscode": {
     "languageId": "markdown"
    }
   },
   "source": [
    "# 2: Understanding Camera Models\n",
    "In this workshop we saw how we can model a pinhole camera using the [Open CV pinhole camera model](https://docs.opencv.org/3.4/d9/d0c/group__calib3d.html). We will in this notebook implement the pinhole camera model from scratch."
   ]
  },
  {
   "cell_type": "markdown",
   "metadata": {},
   "source": [
    "## Camera Matrix\n",
    "The focal lenghts $f_x$ and $f_y$, and the principal points $c_x$ and $c_y$ make up the camera matrix ($K$), stored in a 3x3 matrix:\n",
    "\n",
    "$$K = \\left[\\begin{array}{ccc} f_x & 0 & c_x \\\\ 0 & f_y & c_y \\\\ 0 & 0 & 1 \\end{array}\\right]$$\n",
    "\n",
    "For our use we will save camera matrix as a `CameraMatrix` dataclass containing the focal lengths and the principal points. If we wanted the 3x3 matrix, we could add a method to get it."
   ]
  },
  {
   "cell_type": "code",
   "execution_count": null,
   "metadata": {},
   "outputs": [],
   "source": [
    "from dataclasses import dataclass\n",
    "from nptyping import Float32, NDArray, Shape\n",
    "\n",
    "import numpy as np\n",
    "\n",
    "\n",
    "@dataclass\n",
    "class CameraMatrix:\n",
    "    fx: float\n",
    "    fy: float\n",
    "    cx: float\n",
    "    cy: float"
   ]
  },
  {
   "cell_type": "markdown",
   "metadata": {},
   "source": [
    "### Normalizing the pixels\n",
    "We can now normalize the pixels using the camera matrix. The function `normalize_pixels` takes a `HxWx2` array of pixels and a `CameraMatrix` and returns a `HxWx2` array of normalized pixels by applying the formula:\n",
    "\n",
    "$$\\begin{align*} x' &= \\frac{x-c_x}{f_x} \\\\ y' &= \\frac{y-c_y}{f_y} \\end{align*}$$"
   ]
  },
  {
   "cell_type": "code",
   "execution_count": null,
   "metadata": {},
   "outputs": [],
   "source": [
    "def normalize_pixels(\n",
    "    pixels: NDArray[Shape[\"H, W, 2\"], Float32],\n",
    "    camera_matrix: CameraMatrix,\n",
    ") -> NDArray[Shape[\"H, W, 2\"], Float32]:\n",
    "    x = (pixels[..., 0] - camera_matrix.cx) / camera_matrix.fx\n",
    "    y = (pixels[..., 1] - camera_matrix.cy) / camera_matrix.fy\n",
    "    return np.stack([x, y], axis=-1)"
   ]
  },
  {
   "cell_type": "markdown",
   "metadata": {},
   "source": [
    "### Denormalizing the pixels\n",
    "We can also denormalize the pixels using the camera matrix. The function `denormalize_pixels` takes a `HxWx2` array of normalized pixels and a `CameraMatrix` and returns a `HxWx2` array of pixels by applying the formula:\n",
    "\n",
    "$$\\begin{align*} x &= f_x \\cdot x' + c_x \\\\ y &= f_y \\cdot y' + c_y \\end{align*}$$"
   ]
  },
  {
   "cell_type": "code",
   "execution_count": null,
   "metadata": {},
   "outputs": [],
   "source": [
    "def denormalize_pixels(\n",
    "    normalized_pixels: NDArray[Shape[\"H, W, 2\"], Float32],\n",
    "    camera_matrix: CameraMatrix,\n",
    ") -> NDArray[Shape[\"H, W, 2\"], Float32]:\n",
    "    x = normalized_pixels[..., 0] * camera_matrix.fx + camera_matrix.cx\n",
    "    y = normalized_pixels[..., 1] * camera_matrix.fy + camera_matrix.cy\n",
    "    return np.stack([x, y], axis=-1)"
   ]
  },
  {
   "cell_type": "markdown",
   "metadata": {},
   "source": [
    "### Example\n",
    "To visualize the effect of focal lengths and principal points, we can load a simple test image:\n"
   ]
  },
  {
   "cell_type": "code",
   "execution_count": null,
   "metadata": {},
   "outputs": [],
   "source": [
    "from matplotlib import pyplot as plt\n",
    "\n",
    "from oaf_vision_3d._test_data_paths import TestDataPaths\n",
    "\n",
    "\n",
    "image = plt.imread(TestDataPaths.cat)\n",
    "\n",
    "plt.figure()\n",
    "plt.imshow(image)\n",
    "plt.axis(\"off\")\n",
    "plt.show()"
   ]
  },
  {
   "cell_type": "markdown",
   "metadata": {},
   "source": [
    "We can now overlay a grid that we can alter with the camera matrix:\n",
    "\n",
    "$$\n",
    "\\left[\\begin{array}{cc} x \\\\ y \\end{array}\\right] \\xrightarrow[K]{\\mathrm{normalize}}\n",
    "\\left[\\begin{array}{cc} x' \\\\ y'\\end{array}\\right] \\xrightarrow[K_0]{\\mathrm{denormalize}}\n",
    "\\left[\\begin{array}{cc} x* \\\\ y*\\end{array}\\right]\n",
    "$$"
   ]
  },
  {
   "cell_type": "code",
   "execution_count": null,
   "metadata": {
    "tags": [
     "hide-input"
    ]
   },
   "outputs": [],
   "source": [
    "from ipywidgets import interact, FloatSlider\n",
    "\n",
    "\n",
    "def get_new_grid(\n",
    "    pixels: NDArray[Shape[\"H, W, 2\"], Float32],\n",
    "    fx: float,\n",
    "    fy: float,\n",
    "    cx: float,\n",
    "    cy: float,\n",
    "    camera_matrix_0: CameraMatrix,\n",
    ") -> NDArray[Shape[\"H, W, 2\"], Float32]:\n",
    "    camera_matrix = CameraMatrix(fx=fx, fy=fy, cx=cx, cy=cy)\n",
    "    normalized_pixels = normalize_pixels(pixels=pixels, camera_matrix=camera_matrix)\n",
    "    return denormalize_pixels(\n",
    "        normalized_pixels=normalized_pixels, camera_matrix=camera_matrix_0\n",
    "    )\n",
    "\n",
    "\n",
    "camera_matrix_0 = CameraMatrix(fx=2500.0, fy=2500.0, cx=1250, cy=1000)\n",
    "\n",
    "pixels_grid = np.stack(\n",
    "    np.meshgrid(\n",
    "        np.linspace(0, image.shape[1] - 1, 11),\n",
    "        np.linspace(0, image.shape[0] - 1, 9),\n",
    "        indexing=\"ij\",\n",
    "    ),\n",
    "    axis=-1,\n",
    "    dtype=np.float32,\n",
    ")\n",
    "\n",
    "\n",
    "def plot_with_sliders(focal_lenght: float, cx: float, cy: float) -> None:\n",
    "    new_pixels_grid = get_new_grid(\n",
    "        pixels=pixels_grid,\n",
    "        fx=focal_lenght,\n",
    "        fy=focal_lenght,\n",
    "        cx=cx,\n",
    "        cy=cy,\n",
    "        camera_matrix_0=camera_matrix_0,\n",
    "    )\n",
    "\n",
    "    plt.imshow(image)\n",
    "    plt.plot(pixels_grid[..., 0], pixels_grid[..., 1], \"-r\")\n",
    "    plt.plot(pixels_grid[..., 0].T, pixels_grid[..., 1].T, \"-r\")\n",
    "    plt.plot(new_pixels_grid[..., 0], new_pixels_grid[..., 1], \"-b\")\n",
    "    plt.plot(new_pixels_grid[..., 0].T, new_pixels_grid[..., 1].T, \"-b\")\n",
    "    plt.axis(\"off\")\n",
    "    plt.xlim(-500, 2999)\n",
    "    plt.ylim(2499, -500)\n",
    "\n",
    "\n",
    "_ = interact(\n",
    "    plot_with_sliders,\n",
    "    focal_lenght=FloatSlider(min=1500.0, max=3500.0, step=10.0, value=2500.0),\n",
    "    cx=FloatSlider(min=750.0, max=1750.0, step=10.0, value=1250),\n",
    "    cy=FloatSlider(min=500.0, max=1500.0, step=10.0, value=1000),\n",
    ")"
   ]
  },
  {
   "cell_type": "markdown",
   "metadata": {},
   "source": [
    "## Distortion Coefficients\n",
    "In an ideal world, normalizing the pixels to vectors would be enough. However, in the real world, we have to account for distortion. In the OpenCV model, there are a total of 14 distortion coefficients. As with the camera matrix, we will save the distortion coefficients as a `DistortionCoefficients` dataclass."
   ]
  },
  {
   "cell_type": "code",
   "execution_count": null,
   "metadata": {},
   "outputs": [],
   "source": [
    "@dataclass\n",
    "class DistortionCoefficients:\n",
    "    k1: float = 0.0\n",
    "    k2: float = 0.0\n",
    "    k3: float = 0.0\n",
    "    k4: float = 0.0\n",
    "    k5: float = 0.0\n",
    "    k6: float = 0.0\n",
    "    p1: float = 0.0\n",
    "    p2: float = 0.0\n",
    "    s1: float = 0.0\n",
    "    s2: float = 0.0\n",
    "    s3: float = 0.0\n",
    "    s4: float = 0.0\n",
    "    tau_x: float = 0.0\n",
    "    tau_y: float = 0.0"
   ]
  },
  {
   "cell_type": "markdown",
   "metadata": {},
   "source": [
    "### Distorting the pixels\n",
    "In this section we will focus on implementing the first 5 distortion coefficients, $k_1$, $k_2$, $p_1$, $p_2$ and $k_3$. These parameters make up the radial and tangential distortion. The formula for distorting the pixels is:\n",
    "\n",
    "$$\\begin{align*} x_d &= x'(1 + k_1 r^2 + k_2 r^4 + k_3 r^6) + 2p_1 x' y' + p_2(r^2 + 2x'^2) \\\\ y_d &= y'(1 + k_1 r^2 + k_2 r^4 + k_3 r^6) + p_1(r^2 + 2y'^2) + 2p_2 x' y' \\end{align*}$$\n",
    "\n",
    "where $r^2 = x'^2 + y'^2$, and $x'$ and $y'$ is the normalized pixel values. We can seperate the effects:\n",
    "\n",
    "\n",
    "$$\\begin{align*} D_R &= (1 + k_1 r^2 + k_2 r^4 + k_3 r^6) \\\\\\\\ \\text{radial\\_distortion}_x &= x'D_R \\\\ \\text{radial\\_distortion}_y &= y'D_R \\\\\\\\ \\text{tangential\\_distortion}_x &= 2p_1 x' y' + p_2(r^2 + 2x'^2) \\\\ \\text{tangential\\_distortion}_y &= 2p_2 x' y' + p_1(r^2 + 2y'^2) \\\\\\\\ xy_d &= \\text{radial\\_distortion} + \\text{tangential\\_distortion} \\end{align*}$$"
   ]
  },
  {
   "cell_type": "code",
   "execution_count": null,
   "metadata": {},
   "outputs": [],
   "source": [
    "def distort_pixels_5(\n",
    "    normalized_pixels: NDArray[Shape[\"H, W, 2\"], Float32],\n",
    "    distortion_coefficients: DistortionCoefficients,\n",
    ") -> NDArray[Shape[\"H, W, 2\"], Float32]:\n",
    "    r2 = normalized_pixels[..., 0] ** 2 + normalized_pixels[..., 1] ** 2\n",
    "    r4 = r2 * r2\n",
    "    r6 = r4 * r2\n",
    "\n",
    "    radial_coefficient = (\n",
    "        1\n",
    "        + distortion_coefficients.k1 * r2\n",
    "        + distortion_coefficients.k2 * r4\n",
    "        + distortion_coefficients.k3 * r6\n",
    "    )\n",
    "    radial_distortion = normalized_pixels * radial_coefficient[..., None]\n",
    "\n",
    "    two_xy = 2 * normalized_pixels[..., 0] * normalized_pixels[..., 1]\n",
    "    r2_2x2 = r2 + 2 * normalized_pixels[..., 0] ** 2\n",
    "    r2_2y2 = r2 + 2 * normalized_pixels[..., 1] ** 2\n",
    "\n",
    "    tangential_distortion = np.stack(\n",
    "        (\n",
    "            distortion_coefficients.p1 * two_xy + distortion_coefficients.p2 * r2_2x2,\n",
    "            distortion_coefficients.p2 * two_xy + distortion_coefficients.p1 * r2_2y2,\n",
    "        ),\n",
    "        axis=-1,\n",
    "    )\n",
    "    return radial_distortion + tangential_distortion"
   ]
  },
  {
   "cell_type": "markdown",
   "metadata": {},
   "source": [
    "### Example\n",
    "We can show the same example as before, but now with distortion:\n",
    "\n",
    "$$\n",
    "\\left[\\begin{array}{cc} x \\\\ y \\end{array}\\right] \\xrightarrow[K]{\\mathrm{normalize}}\n",
    "\\left[\\begin{array}{cc} x' \\\\ y'\\end{array}\\right] \\xrightarrow[kc]{\\mathrm{distort}}\n",
    "\\left[\\begin{array}{cc} x'' \\\\ y''\\end{array}\\right] \\xrightarrow[kc_0]{\\mathrm{undistort}}\n",
    "\\left[\\begin{array}{cc} x'^* \\\\ y'^*\\end{array}\\right] \\xrightarrow[K_0]{\\mathrm{denormalize}}\n",
    "\\left[\\begin{array}{cc} x^* \\\\ y^*\\end{array}\\right]\n",
    "$$"
   ]
  },
  {
   "cell_type": "code",
   "execution_count": null,
   "metadata": {
    "tags": [
     "hide-input"
    ]
   },
   "outputs": [],
   "source": [
    "def get_new_grid_distortion_5(\n",
    "    pixels: NDArray[Shape[\"H, W, 2\"], Float32],\n",
    "    k1: float,\n",
    "    k2: float,\n",
    "    k3: float,\n",
    "    p1: float,\n",
    "    p2: float,\n",
    "    camera_matrix: CameraMatrix,\n",
    ") -> NDArray[Shape[\"H, W, 2\"], Float32]:\n",
    "    distortion_coefficients = DistortionCoefficients(k1=k1, k2=k2, k3=k3, p1=p1, p2=p2)\n",
    "    normalized_pixels = normalize_pixels(pixels=pixels, camera_matrix=camera_matrix)\n",
    "    distorted_normalized_pixels = distort_pixels_5(\n",
    "        normalized_pixels=normalized_pixels,\n",
    "        distortion_coefficients=distortion_coefficients,\n",
    "    )\n",
    "    new_normalized_pixels = distorted_normalized_pixels  # This works since we compare to 0 distortion. We need to do this since we haven't implemented the undistort function yet.\n",
    "    return denormalize_pixels(\n",
    "        normalized_pixels=new_normalized_pixels, camera_matrix=camera_matrix\n",
    "    )\n",
    "\n",
    "\n",
    "def plot_with_sliders_1(k1: float, k2: float, k3: float, p1: float, p2: float) -> None:\n",
    "    new_pixels_grid = get_new_grid_distortion_5(\n",
    "        pixels=pixels_grid,\n",
    "        k1=k1,\n",
    "        k2=k2,\n",
    "        k3=k3,\n",
    "        p1=p1,\n",
    "        p2=p2,\n",
    "        camera_matrix=camera_matrix_0,\n",
    "    )\n",
    "\n",
    "    plt.imshow(image)\n",
    "    plt.plot(pixels_grid[..., 0], pixels_grid[..., 1], \"-r\")\n",
    "    plt.plot(pixels_grid[..., 0].T, pixels_grid[..., 1].T, \"-r\")\n",
    "    plt.plot(new_pixels_grid[..., 0], new_pixels_grid[..., 1], \"-b\")\n",
    "    plt.plot(new_pixels_grid[..., 0].T, new_pixels_grid[..., 1].T, \"-b\")\n",
    "    plt.axis(\"off\")\n",
    "    plt.xlim(-500, 2999)\n",
    "    plt.ylim(2499, -500)\n",
    "\n",
    "\n",
    "_ = interact(\n",
    "    plot_with_sliders_1,\n",
    "    k1=FloatSlider(min=-0.4, max=1, step=0.1, value=0.0),\n",
    "    k2=FloatSlider(min=-0.4, max=1, step=0.1, value=0.0),\n",
    "    k3=FloatSlider(min=-0.4, max=1, step=0.1, value=0.0),\n",
    "    p1=FloatSlider(min=-0.1, max=0.1, step=0.01, value=0.0),\n",
    "    p2=FloatSlider(min=-0.1, max=0.1, step=0.01, value=0.0),\n",
    ")"
   ]
  },
  {
   "cell_type": "markdown",
   "metadata": {},
   "source": [
    "## Full distortion\n",
    "For those that want to try implementing the 14 coefficients, the full distortion formula is:\n",
    "\n",
    "$$\\begin{align*} D_R &= \\frac{1 + k_1 r^2 + k_2 r^4 + k_3 r^6}{1 + k_4 r^2 + k_5 r^4 + k_6 r^6} \\\\\\\\ \\text{radial\\_distortion}_x &= x'D_R \\\\ \\text{radial\\_distortion}_y &= y'D_R \\\\\\\\ \\text{tangential\\_distortion}_x &= 2p_1 x' y' + p_2(r^2 + 2x'^2) \\\\ \\text{tangential\\_distortion}_y &= 2p_2 x' y' + p_1(r^2 + 2y'^2) \\\\\\\\ \\text{thin\\_prism\\_distortion}_x &= s_1 r^2 + s_2 r^4 \\\\ \\text{thin\\_prism\\_distortion}_y &= s_3 r^2 + s_4 r^4 \\\\\\\\ xy_d^* &= \\text{radial\\_distortion} + \\text{tangential\\_distortion} + \\text{thin\\_prism\\_distortion} \\end{align*}$$\n",
    "\n",
    "The only difference is that we have added the full radial distortion and the thin prism distortion. The last distortion effect is tilt distortion and is applied to the above points as a 3x3 matrix:\n",
    "\n",
    "$$\\text{tilt\\_matrix} = M_T = \\left[\\begin{array}{ccc} \\cos(\\tau_x) & 0 & 0 \\\\ -\\sin(\\tau_x)\\sin(\\tau_y) & \\cos(\\tau_y) & 0 \\\\ \\sin(\\tau_y) & -\\sin(\\tau_x)\\cos(\\tau_y) & \\cos(\\tau_x)\\cos(\\tau_y) \\end{array}\\right]$$\n",
    "\n",
    "We then apply the matric using normal matrix multiplication:\n",
    "\n",
    "$$ \\begin{bmatrix} x^* \\\\ y^*  \\\\ z^* \\end{bmatrix} = M_T \\begin{bmatrix} x_d^* \\\\ y_d^* \\\\ 1 \\end{bmatrix} $$\n",
    "\n",
    "Where the distorted pixels are:\n",
    "\n",
    "$$ \\begin{align*} x_d &= \\frac{x^*}{z^*} \\\\ y_d &= \\frac{y^*}{z^*} \\end{align*} $$\n"
   ]
  },
  {
   "cell_type": "code",
   "execution_count": null,
   "metadata": {},
   "outputs": [],
   "source": [
    "def distort_pixels(\n",
    "    normalized_pixels: NDArray[Shape[\"H, W, 2\"], Float32],\n",
    "    distortion_coefficients: DistortionCoefficients,\n",
    ") -> NDArray[Shape[\"H, W, 2\"], Float32]: ..."
   ]
  },
  {
   "cell_type": "markdown",
   "metadata": {},
   "source": [
    "And here is the full plot to explore the distortion coefficients:"
   ]
  },
  {
   "cell_type": "code",
   "execution_count": null,
   "metadata": {
    "tags": [
     "hide-input"
    ]
   },
   "outputs": [],
   "source": [
    "def get_new_grid_distortion(\n",
    "    pixels: NDArray[Shape[\"H, W, 2\"], Float32],\n",
    "    camera_matrix_0: CameraMatrix,\n",
    "    fx: float,\n",
    "    fy: float,\n",
    "    cx: float,\n",
    "    cy: float,\n",
    "    k1: float,\n",
    "    k2: float,\n",
    "    k3: float,\n",
    "    k4: float,\n",
    "    k5: float,\n",
    "    k6: float,\n",
    "    p1: float,\n",
    "    p2: float,\n",
    "    s1: float,\n",
    "    s2: float,\n",
    "    s3: float,\n",
    "    s4: float,\n",
    "    tau_x: float,\n",
    "    tau_y: float,\n",
    ") -> NDArray[Shape[\"H, W, 2\"], Float32]:\n",
    "    camera_matrix = CameraMatrix(fx=fx, fy=fy, cx=cx, cy=cy)\n",
    "    distortion_coefficients = DistortionCoefficients(\n",
    "        k1=k1,\n",
    "        k2=k2,\n",
    "        k3=k3,\n",
    "        k4=k4,\n",
    "        k5=k5,\n",
    "        k6=k6,\n",
    "        p1=p1,\n",
    "        p2=p2,\n",
    "        s1=s1,\n",
    "        s2=s2,\n",
    "        s3=s3,\n",
    "        s4=s4,\n",
    "        tau_x=tau_x,\n",
    "        tau_y=tau_y,\n",
    "    )\n",
    "    normalized_pixels = normalize_pixels(pixels=pixels, camera_matrix=camera_matrix)\n",
    "    distorted_normalized_pixels = distort_pixels(\n",
    "        normalized_pixels=normalized_pixels,\n",
    "        distortion_coefficients=distortion_coefficients,\n",
    "    )\n",
    "    new_normalized_pixels = distorted_normalized_pixels  # This works since we compare to 0 distortion. We need to do this since we haven't implemented the undistort function yet.\n",
    "    return denormalize_pixels(\n",
    "        normalized_pixels=new_normalized_pixels, camera_matrix=camera_matrix_0\n",
    "    )\n",
    "\n",
    "\n",
    "def plot_with_sliders_2(\n",
    "    fx: float,\n",
    "    fy: float,\n",
    "    cx: float,\n",
    "    cy: float,\n",
    "    k1: float,\n",
    "    k2: float,\n",
    "    k3: float,\n",
    "    k4: float,\n",
    "    k5: float,\n",
    "    k6: float,\n",
    "    p1: float,\n",
    "    p2: float,\n",
    "    s1: float,\n",
    "    s2: float,\n",
    "    s3: float,\n",
    "    s4: float,\n",
    "    tau_x: float,\n",
    "    tau_y: float,\n",
    ") -> None:\n",
    "    new_pixels_grid = get_new_grid_distortion(\n",
    "        pixels=pixels_grid,\n",
    "        camera_matrix_0=camera_matrix_0,\n",
    "        fx=fx,\n",
    "        fy=fy,\n",
    "        cx=cx,\n",
    "        cy=cy,\n",
    "        k1=k1,\n",
    "        k2=k2,\n",
    "        k3=k3,\n",
    "        k4=k4,\n",
    "        k5=k5,\n",
    "        k6=k6,\n",
    "        p1=p1,\n",
    "        p2=p2,\n",
    "        s1=s1,\n",
    "        s2=s2,\n",
    "        s3=s3,\n",
    "        s4=s4,\n",
    "        tau_x=tau_x,\n",
    "        tau_y=tau_y,\n",
    "    )\n",
    "\n",
    "    plt.imshow(image)\n",
    "    plt.plot(pixels_grid[..., 0], pixels_grid[..., 1], \"-r\")\n",
    "    plt.plot(pixels_grid[..., 0].T, pixels_grid[..., 1].T, \"-r\")\n",
    "    plt.plot(new_pixels_grid[..., 0], new_pixels_grid[..., 1], \"-b\")\n",
    "    plt.plot(new_pixels_grid[..., 0].T, new_pixels_grid[..., 1].T, \"-b\")\n",
    "    plt.axis(\"off\")\n",
    "    plt.xlim(-500, 2999)\n",
    "    plt.ylim(2499, -500)\n",
    "\n",
    "\n",
    "_ = interact(\n",
    "    plot_with_sliders_2,\n",
    "    fx=FloatSlider(min=1500.0, max=3500.0, step=10.0, value=2500.0),\n",
    "    fy=FloatSlider(min=1500.0, max=3500.0, step=10.0, value=2500.0),\n",
    "    cx=FloatSlider(min=750.0, max=1750.0, step=10.0, value=1250),\n",
    "    cy=FloatSlider(min=500.0, max=1500.0, step=10.0, value=1000),\n",
    "    k1=FloatSlider(min=-0.4, max=1, step=0.1, value=0.0),\n",
    "    k2=FloatSlider(min=-0.4, max=1, step=0.1, value=0.0),\n",
    "    k3=FloatSlider(min=-0.4, max=1, step=0.1, value=0.0),\n",
    "    k4=FloatSlider(min=-1, max=1, step=0.1, value=0.0),\n",
    "    k5=FloatSlider(min=-1, max=1, step=0.1, value=0.0),\n",
    "    k6=FloatSlider(min=-1, max=1, step=0.1, value=0.0),\n",
    "    p1=FloatSlider(min=-0.1, max=0.1, step=0.01, value=0.0),\n",
    "    p2=FloatSlider(min=-0.1, max=0.1, step=0.01, value=0.0),\n",
    "    s1=FloatSlider(min=-0.2, max=0.2, step=0.01, value=0.0),\n",
    "    s2=FloatSlider(min=-0.2, max=0.2, step=0.01, value=0.0),\n",
    "    s3=FloatSlider(min=-0.2, max=0.2, step=0.01, value=0.0),\n",
    "    s4=FloatSlider(min=-0.2, max=0.2, step=0.01, value=0.0),\n",
    "    tau_x=FloatSlider(min=-0.2, max=0.2, step=0.01, value=0.0),\n",
    "    tau_y=FloatSlider(min=-0.2, max=0.2, step=0.01, value=0.0),\n",
    ")"
   ]
  }
 ],
 "metadata": {
  "kernelspec": {
   "display_name": "3.11.10",
   "language": "python",
   "name": "python3"
  },
  "language_info": {
   "codemirror_mode": {
    "name": "ipython",
    "version": 3
   },
   "file_extension": ".py",
   "mimetype": "text/x-python",
   "name": "python",
   "nbconvert_exporter": "python",
   "pygments_lexer": "ipython3",
   "version": "3.11.10"
  }
 },
 "nbformat": 4,
 "nbformat_minor": 2
}
